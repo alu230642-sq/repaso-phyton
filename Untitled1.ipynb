{
  "nbformat": 4,
  "nbformat_minor": 0,
  "metadata": {
    "colab": {
      "provenance": [],
      "authorship_tag": "ABX9TyOiJaE/8lf7b4n5yQ9QPUyI",
      "include_colab_link": true
    },
    "kernelspec": {
      "name": "python3",
      "display_name": "Python 3"
    },
    "language_info": {
      "name": "python"
    }
  },
  "cells": [
    {
      "cell_type": "markdown",
      "metadata": {
        "id": "view-in-github",
        "colab_type": "text"
      },
      "source": [
        "<a href=\"https://colab.research.google.com/github/alu230642-sq/repaso-phyton/blob/main/Untitled1.ipynb\" target=\"_parent\"><img src=\"https://colab.research.google.com/assets/colab-badge.svg\" alt=\"Open In Colab\"/></a>"
      ]
    },
    {
      "cell_type": "markdown",
      "source": [
        "Ejercisios a desarrolar en colab en github\n",
        "\n",
        "1.-Realizar un programa en phyton que te permita capturar dos numeros enteros y imprima la suma,la resta,la multiplicacion, y la division en ambos\n",
        "\n",
        "2.- realizar un programa en phyton en el cual mediante calcules el total de caracteres que tiene un nombre capturado desde el teclado\n",
        "\n",
        "3.-Realizar un programa en phyton que permita imprimir los 7 dias de la semana"
      ],
      "metadata": {
        "id": "yCXbVq7e5SYn"
      }
    },
    {
      "cell_type": "markdown",
      "source": [
        "PROGRAMA 1"
      ],
      "metadata": {
        "id": "ssBTESvg6J2i"
      }
    },
    {
      "cell_type": "code",
      "execution_count": 12,
      "metadata": {
        "colab": {
          "base_uri": "https://localhost:8080/"
        },
        "id": "u-b1Fpq-5QVt",
        "outputId": "6369c605-661b-4b68-fd7c-a748085d6f54"
      },
      "outputs": [
        {
          "output_type": "stream",
          "name": "stdout",
          "text": [
            "Programa 1\n",
            "Ingrese el primer numero: 2\n",
            "Ingresa el segundo numero: 2\n",
            "la suma es:  4\n",
            "La resta es:  0\n",
            "La multiplicacion es:  4\n",
            "la division es:  1.0\n"
          ]
        }
      ],
      "source": [
        "print(\"Programa 1\")\n",
        "num1=int(input(\"Ingrese el primer numero: \"))\n",
        "num2=int(input(\"Ingresa el segundo numero: \"))\n",
        "s=(num1+num2);\n",
        "r=(num1-num2)\n",
        "m=(num1*num2)\n",
        "d=(num1/num2)\n",
        "\n",
        "print(\"la suma es: \",s)\n",
        "print(\"La resta es: \",r )\n",
        "print(\"La multiplicacion es: \", m)\n",
        "print(\"la division es: \",d)"
      ]
    },
    {
      "cell_type": "markdown",
      "source": [
        "Programa 2"
      ],
      "metadata": {
        "id": "4PzxRk1l9zhJ"
      }
    },
    {
      "cell_type": "code",
      "source": [
        "nombre=input(\"Nombre: \")\n",
        "totaletras=len(nombre)\n",
        "print(\"El total de caracteres es: \",totaletras)"
      ],
      "metadata": {
        "colab": {
          "base_uri": "https://localhost:8080/"
        },
        "id": "uimsw3kR91fp",
        "outputId": "b5bd7663-0988-47dc-b047-c9f199f42b46"
      },
      "execution_count": 15,
      "outputs": [
        {
          "output_type": "stream",
          "name": "stdout",
          "text": [
            "Nombre: dan\n",
            "El total de caracteres es:  3\n"
          ]
        }
      ]
    },
    {
      "cell_type": "markdown",
      "source": [
        "Programa 3"
      ],
      "metadata": {
        "id": "r-HsjZV_-bT3"
      }
    },
    {
      "cell_type": "code",
      "source": [
        "Print(\"Estos son los Dias de la semana\")\n",
        "print(\"Lunes\")\n",
        "print(\"Martes\")\n",
        "print(\"Miercoles\")\n",
        "print(\"Jueves\")\n",
        "print(\"Viernes\")\n",
        "print(\"Sabado\")\n",
        "print(\"domingo\")"
      ],
      "metadata": {
        "id": "8DDLTDFM-dC_"
      },
      "execution_count": null,
      "outputs": []
    }
  ]
}