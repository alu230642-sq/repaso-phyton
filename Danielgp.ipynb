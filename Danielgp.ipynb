{
  "nbformat": 4,
  "nbformat_minor": 0,
  "metadata": {
    "colab": {
      "provenance": [],
      "authorship_tag": "ABX9TyNNDBMIYCU3lVj8VnK7d94d",
      "include_colab_link": true
    },
    "kernelspec": {
      "name": "python3",
      "display_name": "Python 3"
    },
    "language_info": {
      "name": "python"
    }
  },
  "cells": [
    {
      "cell_type": "markdown",
      "metadata": {
        "id": "view-in-github",
        "colab_type": "text"
      },
      "source": [
        "<a href=\"https://colab.research.google.com/github/alu230642-sq/repaso-phyton/blob/main/Danielgp.ipynb\" target=\"_parent\"><img src=\"https://colab.research.google.com/assets/colab-badge.svg\" alt=\"Open In Colab\"/></a>"
      ]
    },
    {
      "cell_type": "code",
      "execution_count": null,
      "metadata": {
        "id": "dbuWeSe40Nfl"
      },
      "outputs": [],
      "source": []
    },
    {
      "cell_type": "markdown",
      "source": [
        "Comienza a programar para imprimir el nombre y hola mundo"
      ],
      "metadata": {
        "id": "xRb9oPLS0Wh_"
      }
    },
    {
      "cell_type": "code",
      "source": [
        "print(\"Hola mundo\")\n",
        "nombre=(input(\"Captura tu nombre: \"))\n",
        "print(nombre)"
      ],
      "metadata": {
        "colab": {
          "base_uri": "https://localhost:8080/"
        },
        "id": "Kmifuds00lef",
        "outputId": "fdb4a10e-55c4-4945-9dc3-38237f8dfeb8"
      },
      "execution_count": 1,
      "outputs": [
        {
          "output_type": "stream",
          "name": "stdout",
          "text": [
            "Hola mundo\n",
            "Captura tu nombreDaniel\n",
            "Daniel\n"
          ]
        }
      ]
    },
    {
      "cell_type": "markdown",
      "source": [
        "Programa 2\n",
        "Capturar tu nombre. apellido paterno y materno e imprimirlo en la pantalla"
      ],
      "metadata": {
        "id": "sMbV0Tke1bt-"
      }
    },
    {
      "cell_type": "code",
      "source": [
        "print(\"ingresa tu nombre\")\n",
        "nombre=(input(\"Cual es tu nombre: \"))\n",
        "apep=(input(\"Cual es tu apellido paterno: \"))\n",
        "apem=(input(\"Cual es tu apellido materno: \"))\n",
        "print(nombre+\" \"+apep+\" \"+apem)"
      ],
      "metadata": {
        "colab": {
          "base_uri": "https://localhost:8080/"
        },
        "id": "DjlJufRa1pFz",
        "outputId": "09215d6c-c75d-425e-911d-54ca47f59a3e"
      },
      "execution_count": 5,
      "outputs": [
        {
          "output_type": "stream",
          "name": "stdout",
          "text": [
            "ingresa tu nombre\n",
            "Cual es tu nombre: daniel\n",
            "Cual es tu apellido paterno: payan\n",
            "Cual es tu apellido materno: garcia\n",
            "daniel payan garcia\n"
          ]
        }
      ]
    }
  ]
}